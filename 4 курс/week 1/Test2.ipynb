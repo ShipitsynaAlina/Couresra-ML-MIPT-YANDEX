{
 "cells": [
  {
   "cell_type": "code",
   "execution_count": 2,
   "metadata": {},
   "outputs": [],
   "source": [
    "import numpy as np\n",
    "import pandas as pd\n",
    "\n",
    "import scipy\n",
    "from statsmodels.stats.weightstats import *\n",
    "from statsmodels.stats.proportion import proportion_confint"
   ]
  },
  {
   "cell_type": "code",
   "execution_count": 3,
   "metadata": {},
   "outputs": [],
   "source": [
    "conf_interval_a = proportion_confint(104, 11037 , method = 'wilson')\n",
    "conf_interval_b = proportion_confint(189, 11034, method = 'wilson')"
   ]
  },
  {
   "cell_type": "code",
   "execution_count": 4,
   "metadata": {},
   "outputs": [
    {
     "name": "stdout",
     "output_type": "stream",
     "text": [
      "interval for a [0.007783, 0.011404]\n",
      "interval for b [0.014871, 0.019723]\n"
     ]
    }
   ],
   "source": [
    "print('interval for a [%f, %f]' % conf_interval_a)\n",
    "print('interval for b [%f, %f]' % conf_interval_b)"
   ]
  },
  {
   "cell_type": "code",
   "execution_count": 13,
   "metadata": {},
   "outputs": [
    {
     "name": "stdout",
     "output_type": "stream",
     "text": [
      "confidence interval: [0.004688, 0.010724]\n"
     ]
    }
   ],
   "source": [
    "alpha = 0.05\n",
    "z = scipy.stats.norm.ppf(1 - alpha / 2.)\n",
    "p2 = float(104 / 11037)\n",
    "p1 = float(189 / 11034)\n",
    "\n",
    "left_boundary = (p1 - p2) - z * np.sqrt(p1 * (1 - p1)/ 11034 + p2 * (1 - p2)/ 11037)\n",
    "right_boundary = (p1 - p2) + z * np.sqrt(p1 * (1 - p1)/ 11034 + p2 * (1 - p2)/ 11037)\n",
    "\n",
    "print(\"confidence interval: [%f, %f]\" % (left_boundary, right_boundary))"
   ]
  },
  {
   "cell_type": "code",
   "execution_count": 12,
   "metadata": {},
   "outputs": [
    {
     "data": {
      "text/plain": [
       "0.0077060239760047815"
      ]
     },
     "execution_count": 12,
     "metadata": {},
     "output_type": "execute_result"
    }
   ],
   "source": [
    "x = 189.0/11034.0 - 104.0/11037.0\n",
    "x"
   ]
  },
  {
   "cell_type": "code",
   "execution_count": 15,
   "metadata": {},
   "outputs": [
    {
     "name": "stdout",
     "output_type": "stream",
     "text": [
      "1.8320539419087138\n"
     ]
    }
   ],
   "source": [
    "x = 104.0/11037.0/(1-104.0/11037.0)\n",
    "y = 189.0/11034.0/(1-189.0/11034.0)\n",
    "print(y/x)"
   ]
  },
  {
   "cell_type": "code",
   "execution_count": 26,
   "metadata": {},
   "outputs": [],
   "source": [
    "a1 = np.ones(104)\n",
    "a0 = np.zeros(11037-104)\n",
    "a = np.hstack((a1, a0))\n",
    "\n",
    "b1 = np.ones(189)\n",
    "b0 = np.zeros(11034-189)\n",
    "b = np.hstack((b1, b0))"
   ]
  },
  {
   "cell_type": "code",
   "execution_count": 27,
   "metadata": {},
   "outputs": [],
   "source": [
    "def get_bootstrap_samples(data, n_samples):\n",
    "    indices = np.random.randint(0, len(data), (n_samples, len(data)))\n",
    "    samples = data[indices]\n",
    "    return samples"
   ]
  },
  {
   "cell_type": "code",
   "execution_count": 44,
   "metadata": {},
   "outputs": [],
   "source": [
    "def stat_intervals(stat, alpha):\n",
    "    boundaries = np.percentile(stat, [100 * alpha / 2., 100 * (1 - alpha / 2.)])\n",
    "    return boundaries"
   ]
  },
  {
   "cell_type": "code",
   "execution_count": 31,
   "metadata": {},
   "outputs": [],
   "source": [
    "def get_odds(a):\n",
    "    p = sum(a)/len(a)\n",
    "    return p/(1-p)"
   ]
  },
  {
   "cell_type": "code",
   "execution_count": 46,
   "metadata": {},
   "outputs": [
    {
     "name": "stdout",
     "output_type": "stream",
     "text": [
      "95% confidence interval: [1.44419465 2.34321168]\n"
     ]
    }
   ],
   "source": [
    "np.random.seed(0)\n",
    "\n",
    "odds = list(map(lambda x: (get_odds(x[1])/get_odds(x[0])), \n",
    "                zip(get_bootstrap_samples(a, 1000), get_bootstrap_samples(b, 1000))))\n",
    "\n",
    "print(\"95% confidence interval:\",  stat_intervals(odds, 0.05))"
   ]
  },
  {
   "cell_type": "code",
   "execution_count": null,
   "metadata": {},
   "outputs": [],
   "source": []
  }
 ],
 "metadata": {
  "kernelspec": {
   "display_name": "Python 3",
   "language": "python",
   "name": "python3"
  },
  "language_info": {
   "codemirror_mode": {
    "name": "ipython",
    "version": 3
   },
   "file_extension": ".py",
   "mimetype": "text/x-python",
   "name": "python",
   "nbconvert_exporter": "python",
   "pygments_lexer": "ipython3",
   "version": "3.7.6"
  }
 },
 "nbformat": 4,
 "nbformat_minor": 2
}
