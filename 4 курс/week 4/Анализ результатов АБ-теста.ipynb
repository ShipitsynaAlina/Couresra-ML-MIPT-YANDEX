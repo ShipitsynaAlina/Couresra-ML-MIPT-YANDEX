{
 "cells": [
  {
   "cell_type": "markdown",
   "metadata": {},
   "source": [
    "# Анализ результатов АБ-теста\n",
    "В данном задании вам нужно будет\n",
    "\n",
    "- проанализировать АБ тест, проведенный на реальных пользователях Яндекса\n",
    "- подтвердить или опровергнуть наличие изменений в пользовательском поведении между контрольной (control) и тестовой (exp) группами\n",
    "- определить характер этих изменений и практическую значимость вводимого изменения\n",
    "- понять, какая из пользовательских групп более всего проигрывает / выигрывает от тестируемого изменения (локализовать изменение)"
   ]
  },
  {
   "cell_type": "code",
   "execution_count": 113,
   "metadata": {},
   "outputs": [
    {
     "name": "stdout",
     "output_type": "stream",
     "text": [
      "Populating the interactive namespace from numpy and matplotlib\n"
     ]
    },
    {
     "name": "stderr",
     "output_type": "stream",
     "text": [
      "/Users/alina/anaconda3/lib/python3.7/site-packages/IPython/core/magics/pylab.py:160: UserWarning: pylab import has clobbered these variables: ['mean', 'test']\n",
      "`%matplotlib` prevents importing * from pylab and numpy\n",
      "  \"\\n`%matplotlib` prevents importing * from pylab and numpy\"\n"
     ]
    }
   ],
   "source": [
    "import numpy as np\n",
    "import pandas as pd\n",
    "\n",
    "import matplotlib.pyplot as plt\n",
    "%pylab inline"
   ]
  },
  {
   "cell_type": "markdown",
   "metadata": {},
   "source": [
    "### Описание данных:\n",
    "\n",
    "- userID: уникальный идентификатор пользователя\n",
    "- browser: браузер, который использовал userID\n",
    "- slot: в каком статусе пользователь участвовал в исследовании (exp = видел измененную страницу, control = видел неизменную страницу)\n",
    "- n_clicks: количество кликов, которые пользоваль совершил за n_queries\n",
    "- n_queries: количество запросов, который совершил userID, пользуясь браузером browser\n",
    "- n_nonclk_queries: количество запросов пользователя, в которых им не было совершено ни одного клика\n",
    "\n",
    "Обращаем ваше внимание, что не все люди используют только один браузер, поэтому в столбце userID есть повторяющиеся идентификаторы. В предлагаемых данных уникальным является сочетание userID и browser.\n",
    "\n"
   ]
  },
  {
   "cell_type": "code",
   "execution_count": 114,
   "metadata": {},
   "outputs": [],
   "source": [
    "data = pd.read_csv('ab_browser_test.csv', sep = ',')"
   ]
  },
  {
   "cell_type": "code",
   "execution_count": 115,
   "metadata": {},
   "outputs": [
    {
     "data": {
      "text/html": [
       "<div>\n",
       "<style scoped>\n",
       "    .dataframe tbody tr th:only-of-type {\n",
       "        vertical-align: middle;\n",
       "    }\n",
       "\n",
       "    .dataframe tbody tr th {\n",
       "        vertical-align: top;\n",
       "    }\n",
       "\n",
       "    .dataframe thead th {\n",
       "        text-align: right;\n",
       "    }\n",
       "</style>\n",
       "<table border=\"1\" class=\"dataframe\">\n",
       "  <thead>\n",
       "    <tr style=\"text-align: right;\">\n",
       "      <th></th>\n",
       "      <th>userID</th>\n",
       "      <th>browser</th>\n",
       "      <th>slot</th>\n",
       "      <th>n_clicks</th>\n",
       "      <th>n_queries</th>\n",
       "      <th>n_nonclk_queries</th>\n",
       "    </tr>\n",
       "  </thead>\n",
       "  <tbody>\n",
       "    <tr>\n",
       "      <th>0</th>\n",
       "      <td>1</td>\n",
       "      <td>Browser #2</td>\n",
       "      <td>exp</td>\n",
       "      <td>23</td>\n",
       "      <td>32</td>\n",
       "      <td>19</td>\n",
       "    </tr>\n",
       "    <tr>\n",
       "      <th>1</th>\n",
       "      <td>3</td>\n",
       "      <td>Browser #4</td>\n",
       "      <td>exp</td>\n",
       "      <td>3</td>\n",
       "      <td>4</td>\n",
       "      <td>2</td>\n",
       "    </tr>\n",
       "    <tr>\n",
       "      <th>2</th>\n",
       "      <td>5</td>\n",
       "      <td>Browser #4</td>\n",
       "      <td>exp</td>\n",
       "      <td>29</td>\n",
       "      <td>35</td>\n",
       "      <td>16</td>\n",
       "    </tr>\n",
       "    <tr>\n",
       "      <th>3</th>\n",
       "      <td>6</td>\n",
       "      <td>Browser #4</td>\n",
       "      <td>control</td>\n",
       "      <td>12</td>\n",
       "      <td>6</td>\n",
       "      <td>0</td>\n",
       "    </tr>\n",
       "    <tr>\n",
       "      <th>4</th>\n",
       "      <td>7</td>\n",
       "      <td>Browser #4</td>\n",
       "      <td>exp</td>\n",
       "      <td>54</td>\n",
       "      <td>68</td>\n",
       "      <td>30</td>\n",
       "    </tr>\n",
       "  </tbody>\n",
       "</table>\n",
       "</div>"
      ],
      "text/plain": [
       "   userID     browser     slot  n_clicks  n_queries  n_nonclk_queries\n",
       "0       1  Browser #2      exp        23         32                19\n",
       "1       3  Browser #4      exp         3          4                 2\n",
       "2       5  Browser #4      exp        29         35                16\n",
       "3       6  Browser #4  control        12          6                 0\n",
       "4       7  Browser #4      exp        54         68                30"
      ]
     },
     "execution_count": 115,
     "metadata": {},
     "output_type": "execute_result"
    }
   ],
   "source": [
    "data.head()"
   ]
  },
  {
   "cell_type": "markdown",
   "metadata": {},
   "source": [
    "### 1\n",
    "Основная метрика, на которой мы сосредоточимся в этой работе, — это количество пользовательских кликов на web-странице в зависимости от тестируемого изменения этой страницы.\n",
    "\n",
    "Посчитайте, насколько в группе exp больше пользовательских кликов по сравнению с группой control в процентах от числа кликов в контрольной группе.\n",
    "\n",
    "Полученный процент округлите до третьего знака после точки."
   ]
  },
  {
   "cell_type": "code",
   "execution_count": 116,
   "metadata": {},
   "outputs": [
    {
     "data": {
      "text/html": [
       "<div>\n",
       "<style scoped>\n",
       "    .dataframe tbody tr th:only-of-type {\n",
       "        vertical-align: middle;\n",
       "    }\n",
       "\n",
       "    .dataframe tbody tr th {\n",
       "        vertical-align: top;\n",
       "    }\n",
       "\n",
       "    .dataframe thead th {\n",
       "        text-align: right;\n",
       "    }\n",
       "</style>\n",
       "<table border=\"1\" class=\"dataframe\">\n",
       "  <thead>\n",
       "    <tr style=\"text-align: right;\">\n",
       "      <th></th>\n",
       "      <th>userID</th>\n",
       "      <th>n_clicks</th>\n",
       "      <th>n_queries</th>\n",
       "      <th>n_nonclk_queries</th>\n",
       "    </tr>\n",
       "  </thead>\n",
       "  <tbody>\n",
       "    <tr>\n",
       "      <th>count</th>\n",
       "      <td>566134.000000</td>\n",
       "      <td>566134.000000</td>\n",
       "      <td>566134.000000</td>\n",
       "      <td>566134.000000</td>\n",
       "    </tr>\n",
       "    <tr>\n",
       "      <th>mean</th>\n",
       "      <td>301377.214027</td>\n",
       "      <td>11.431658</td>\n",
       "      <td>10.720524</td>\n",
       "      <td>4.703987</td>\n",
       "    </tr>\n",
       "    <tr>\n",
       "      <th>std</th>\n",
       "      <td>175526.333101</td>\n",
       "      <td>20.251494</td>\n",
       "      <td>16.262827</td>\n",
       "      <td>8.109958</td>\n",
       "    </tr>\n",
       "    <tr>\n",
       "      <th>min</th>\n",
       "      <td>1.000000</td>\n",
       "      <td>0.000000</td>\n",
       "      <td>1.000000</td>\n",
       "      <td>0.000000</td>\n",
       "    </tr>\n",
       "    <tr>\n",
       "      <th>25%</th>\n",
       "      <td>148627.250000</td>\n",
       "      <td>1.000000</td>\n",
       "      <td>2.000000</td>\n",
       "      <td>1.000000</td>\n",
       "    </tr>\n",
       "    <tr>\n",
       "      <th>50%</th>\n",
       "      <td>299362.500000</td>\n",
       "      <td>4.000000</td>\n",
       "      <td>5.000000</td>\n",
       "      <td>2.000000</td>\n",
       "    </tr>\n",
       "    <tr>\n",
       "      <th>75%</th>\n",
       "      <td>455698.750000</td>\n",
       "      <td>13.000000</td>\n",
       "      <td>13.000000</td>\n",
       "      <td>6.000000</td>\n",
       "    </tr>\n",
       "    <tr>\n",
       "      <th>max</th>\n",
       "      <td>603137.000000</td>\n",
       "      <td>863.000000</td>\n",
       "      <td>665.000000</td>\n",
       "      <td>581.000000</td>\n",
       "    </tr>\n",
       "  </tbody>\n",
       "</table>\n",
       "</div>"
      ],
      "text/plain": [
       "              userID       n_clicks      n_queries  n_nonclk_queries\n",
       "count  566134.000000  566134.000000  566134.000000     566134.000000\n",
       "mean   301377.214027      11.431658      10.720524          4.703987\n",
       "std    175526.333101      20.251494      16.262827          8.109958\n",
       "min         1.000000       0.000000       1.000000          0.000000\n",
       "25%    148627.250000       1.000000       2.000000          1.000000\n",
       "50%    299362.500000       4.000000       5.000000          2.000000\n",
       "75%    455698.750000      13.000000      13.000000          6.000000\n",
       "max    603137.000000     863.000000     665.000000        581.000000"
      ]
     },
     "execution_count": 116,
     "metadata": {},
     "output_type": "execute_result"
    }
   ],
   "source": [
    "data.describe()"
   ]
  },
  {
   "cell_type": "code",
   "execution_count": 117,
   "metadata": {},
   "outputs": [
    {
     "data": {
      "text/plain": [
       "1.6135689824415778"
      ]
     },
     "execution_count": 117,
     "metadata": {},
     "output_type": "execute_result"
    }
   ],
   "source": [
    "n_clikcks_exp = sum(list(data[data.slot == 'exp'].n_clicks))\n",
    "n_clikcks_control = sum(list(data[data.slot == 'control'].n_clicks))\n",
    "delta = n_clikcks_exp*1./n_clikcks_control*100-100\n",
    "delta"
   ]
  },
  {
   "cell_type": "markdown",
   "metadata": {},
   "source": [
    "### 2\n",
    "Давайте попробуем посмотреть более внимательно на разницу между двумя группами (control и exp) относительно количества пользовательских кликов.\n",
    "\n",
    "Для этого постройте с помощью бутстрепа 95% доверительный интервал для средних значений и медиан количества кликов в каждой из двух групп."
   ]
  },
  {
   "cell_type": "code",
   "execution_count": 118,
   "metadata": {},
   "outputs": [],
   "source": [
    "def get_bootstrap_samples(data, n_samples):\n",
    "    indices = np.random.randint(0, len(data), (n_samples, len(data)))\n",
    "    samples = data[indices]\n",
    "    return samples"
   ]
  },
  {
   "cell_type": "code",
   "execution_count": 119,
   "metadata": {},
   "outputs": [],
   "source": [
    "def stat_intervals(stat, alpha):\n",
    "    boundaries = np.percentile(stat, [100 * alpha / 2., 100 * (1 - alpha / 2.)])\n",
    "    return boundaries"
   ]
  },
  {
   "cell_type": "code",
   "execution_count": 120,
   "metadata": {},
   "outputs": [
    {
     "name": "stdout",
     "output_type": "stream",
     "text": [
      "95% confidence interval for exp median: [5. 5.]\n",
      "95% confidence interval for control median: [4. 4.]\n"
     ]
    }
   ],
   "source": [
    "np.random.seed(0)\n",
    "\n",
    "median_exp = list(map(np.median, get_bootstrap_samples(data[data.slot == 'exp'].n_clicks.values, 1000)))\n",
    "median_control = list(map(np.median, get_bootstrap_samples(data[data.slot == 'control'].n_clicks.values, 1000)))\n",
    "\n",
    "print(\"95% confidence interval for exp median:\",  stat_intervals(median_exp, 0.05))\n",
    "print(\"95% confidence interval for control median:\",  stat_intervals(median_control, 0.05))"
   ]
  },
  {
   "cell_type": "code",
   "execution_count": 121,
   "metadata": {},
   "outputs": [
    {
     "name": "stdout",
     "output_type": "stream",
     "text": [
      "difference between medians: 1.0\n",
      "95% confidence interval for the difference between medians [-1. -1.]\n"
     ]
    }
   ],
   "source": [
    "delta_median_scores = list(map(lambda x: x[1] - x[0], zip(median_exp, median_control)))\n",
    "\n",
    "print(\"difference between medians:\", np.median(data[data.slot == 'exp'].n_clicks.values) -\n",
    "                                        np.median(data[data.slot == 'control'].n_clicks.values))\n",
    "print(\"95% confidence interval for the difference between medians\",  stat_intervals(delta_median_scores, 0.05))"
   ]
  },
  {
   "cell_type": "code",
   "execution_count": 122,
   "metadata": {},
   "outputs": [
    {
     "name": "stdout",
     "output_type": "stream",
     "text": [
      "95% confidence interval for exp mean: [11.5086867  11.66089388]\n",
      "95% confidence interval for control mean: [11.20795095 11.35742732]\n"
     ]
    }
   ],
   "source": [
    "np.random.seed(0)\n",
    "\n",
    "mean_exp = list(map(np.mean, get_bootstrap_samples(data[data.slot == 'exp'].n_clicks.values, 1000)))\n",
    "mean_control = list(map(np.mean, get_bootstrap_samples(data[data.slot == 'control'].n_clicks.values, 1000)))\n",
    "\n",
    "print(\"95% confidence interval for exp mean:\",  stat_intervals(mean_exp, 0.05))\n",
    "print(\"95% confidence interval for control mean:\",  stat_intervals(mean_control, 0.05))"
   ]
  },
  {
   "cell_type": "code",
   "execution_count": 123,
   "metadata": {},
   "outputs": [
    {
     "name": "stdout",
     "output_type": "stream",
     "text": [
      "difference between means: 0.3030947340656329\n",
      "95% confidence interval for the difference between means [-0.40475697 -0.19172563]\n"
     ]
    }
   ],
   "source": [
    "delta_mean_scores = list(map(lambda x: x[1] - x[0], zip(mean_exp, mean_control)))\n",
    "\n",
    "print(\"difference between means:\", np.mean(data[data.slot == 'exp'].n_clicks.values) -\n",
    "                                        np.mean(data[data.slot == 'control'].n_clicks.values))\n",
    "print(\"95% confidence interval for the difference between means\",  stat_intervals(delta_mean_scores, 0.05))"
   ]
  },
  {
   "cell_type": "markdown",
   "metadata": {},
   "source": [
    "### 3\n",
    "Поскольку данных достаточно много (порядка полумиллиона уникальных пользователей), отличие в несколько процентов может быть не только практически значимым, но и значимым статистически. Последнее утверждение нуждается в дополнительной проверке."
   ]
  },
  {
   "cell_type": "code",
   "execution_count": 124,
   "metadata": {},
   "outputs": [],
   "source": [
    "from scipy import stats"
   ]
  },
  {
   "cell_type": "code",
   "execution_count": 125,
   "metadata": {},
   "outputs": [
    {
     "data": {
      "text/plain": [
       "((array([-4.57023359, -4.38078026, -4.27804676, ...,  4.27804676,\n",
       "          4.38078026,  4.57023359]),\n",
       "  array([  0,   0,   0, ..., 627, 773, 863])),\n",
       " (14.864475170767355, 11.280906260323171, 0.7328783997528365))"
      ]
     },
     "execution_count": 125,
     "metadata": {},
     "output_type": "execute_result"
    },
    {
     "data": {
      "image/png": "[encoded data removed]",
      "text/plain": [
       "<Figure size 864x576 with 2 Axes>"
      ]
     },
     "metadata": {
      "needs_background": "light"
     },
     "output_type": "display_data"
    }
   ],
   "source": [
    "plt.figure(figsize = (12, 8))\n",
    "\n",
    "plt.subplot(2, 2, 1)\n",
    "stats.probplot(data[data.slot == 'exp'].n_clicks, dist=\"norm\", plot=pylab)\n",
    "\n",
    "plt.subplot(2, 2, 2)\n",
    "stats.probplot(data[data.slot == 'control'].n_clicks, dist=\"norm\", plot=pylab)"
   ]
  },
  {
   "cell_type": "markdown",
   "metadata": {},
   "source": [
    "Распределения не являются нормальными, потому что Q-Q графики не лежат на прямой"
   ]
  },
  {
   "cell_type": "markdown",
   "metadata": {},
   "source": [
    "### 4\n",
    "t-критерий Стьюдента имеет множество достоинств, и потому его достаточно часто применяют в AB экспериментах. Иногда его применение может быть необоснованно из-за сильной скошенности распределения данных.\n",
    "\n",
    "Давайте постараемся понять, когда t-критерий можно применять и как это проверить на реальных данных.\n",
    "\n",
    "Для простоты рассмотрим одновыборочный t-критерий. Его статистика имеет вид $\\frac{X_{mean} - \\mu}{\\sqrt{S^2/n}}$, то есть чтобы действительно предположения t-критерия выполнялись необходимо, чтобы:\n",
    "- $X_{mean}$ — среднее значение в выборке — было распределено нормально \n",
    "- $\\frac{n}{\\sigma^2}S^2$ — несмещенная оценка дисперсии c масштабирующим коэффициентом — была распределена по хи-квадрат c n−1 степенями свободы\n",
    "\n",
    "Простое доказательство необходимости и достаточности этого требования можно посмотреть в самом последнем абзаце этого вопроса. Усвоение этого доказательства не обязательно для выполнения задания.\n",
    "\n",
    "Оба этих предположения можно проверить с помощью бутстрепа. Ограничимся сейчас только контрольной группой, в которой распределение кликов будем называть данными в рамках данного вопроса.\n",
    "\n",
    "Поскольку мы не знаем истинного распределения генеральной совокупности, мы можем применить бутстреп, чтобы понять, как распределены среднее значение и выборочная дисперсия. Для этого\n",
    "\n",
    "1. Получите из данных n_boot_samples псевдовыборок.\n",
    "\n",
    "2. По каждой из этих выборок посчитайте среднее и сумму квадратов отклонения от выборочного среднего (control_boot_chi_squared)\n",
    "\n",
    "3. Для получившегося вектора средних значений из n_boot_samples постройте q-q plot с помощью scipy.stats.probplot для нормального распределения\n",
    "\n",
    "4. Для получившегося вектора сумм квадратов отклонения от выборочного среднего постройте qq-plot с помощью scipy.stats.probplot для хи-квадрат распределения с помощью команды scipy.stats.probplot(control_boot_chi_squared, dist=\"chi2\", sparams=(n-1), plot=plt)\n",
    "\n",
    "Где sparams=(n-1) означают число степеней свободы = длине выборки - 1.\n",
    "\n",
    "Чтобы получить такой же ответ, как у нас, зафиксируйте seed и количество псевдовыборок:\n",
    "- np.random.seed(0)\n",
    "- n_boot_samples = 500\n",
    "\n",
    "В качестве ответа отметьте верные утвердения о значениях $R^2$, которые генерирует scipy.stats.probplot при отображении qq-графиков: одно c графика для среднего и одно с графика для выборочной суммы квадратов отклонения от выборочной суммы.\n",
    "\n",
    "\n",
    "\n"
   ]
  },
  {
   "cell_type": "code",
   "execution_count": 126,
   "metadata": {},
   "outputs": [],
   "source": [
    "np.random.seed(0)\n",
    "n_boot_samples = 500\n",
    "\n",
    "samples = get_bootstrap_samples(data[data.slot == 'control'].n_clicks.values, n_boot_samples)\n",
    "\n",
    "mean = list(map(np.mean, samples))\n",
    "control_boot_chi_squared = list(map(np.std, samples))\n",
    "\n"
   ]
  },
  {
   "cell_type": "code",
   "execution_count": 127,
   "metadata": {},
   "outputs": [
    {
     "data": {
      "text/plain": [
       "((array([-2.99209858e+00, -2.71015927e+00, -2.55162541e+00, -2.43921385e+00,\n",
       "         -2.35113311e+00, -2.27822091e+00, -2.21572267e+00, -2.16084152e+00,\n",
       "         -2.11178767e+00, -2.06734403e+00, -2.02664403e+00, -1.98904794e+00,\n",
       "         -1.95406954e+00, -1.92133033e+00, -1.89052965e+00, -1.86142459e+00,\n",
       "         -1.83381593e+00, -1.80753820e+00, -1.78245240e+00, -1.75844061e+00,\n",
       "         -1.73540186e+00, -1.71324904e+00, -1.69190643e+00, -1.67130780e+00,\n",
       "         -1.65139483e+00, -1.63211595e+00, -1.61342528e+00, -1.59528183e+00,\n",
       "         -1.57764883e+00, -1.56049314e+00, -1.54378481e+00, -1.52749667e+00,\n",
       "         -1.51160399e+00, -1.49608418e+00, -1.48091659e+00, -1.46608224e+00,\n",
       "         -1.45156367e+00, -1.43734479e+00, -1.42341071e+00, -1.40974764e+00,\n",
       "         -1.39634279e+00, -1.38318426e+00, -1.37026095e+00, -1.35756253e+00,\n",
       "         -1.34507932e+00, -1.33280226e+00, -1.32072287e+00, -1.30883317e+00,\n",
       "         -1.29712567e+00, -1.28559331e+00, -1.27422944e+00, -1.26302778e+00,\n",
       "         -1.25198239e+00, -1.24108768e+00, -1.23033831e+00, -1.21972926e+00,\n",
       "         -1.20925574e+00, -1.19891322e+00, -1.18869738e+00, -1.17860411e+00,\n",
       "         -1.16862950e+00, -1.15876983e+00, -1.14902154e+00, -1.13938123e+00,\n",
       "         -1.12984566e+00, -1.12041173e+00, -1.11107648e+00, -1.10183707e+00,\n",
       "         -1.09269077e+00, -1.08363498e+00, -1.07466719e+00, -1.06578501e+00,\n",
       "         -1.05698612e+00, -1.04826831e+00, -1.03962946e+00, -1.03106750e+00,\n",
       "         -1.02258046e+00, -1.01416645e+00, -1.00582364e+00, -9.97550247e-01,\n",
       "         -9.89344581e-01, -9.81204996e-01, -9.73129904e-01, -9.65117774e-01,\n",
       "         -9.57167125e-01, -9.49276525e-01, -9.41444591e-01, -9.33669982e-01,\n",
       "         -9.25951403e-01, -9.18287599e-01, -9.10677353e-01, -9.03119487e-01,\n",
       "         -8.95612861e-01, -8.88156365e-01, -8.80748927e-01, -8.73389502e-01,\n",
       "         -8.66077081e-01, -8.58810678e-01, -8.51589342e-01, -8.44412143e-01,\n",
       "         -8.37278180e-01, -8.30186576e-01, -8.23136480e-01, -8.16127061e-01,\n",
       "         -8.09157513e-01, -8.02227049e-01, -7.95334905e-01, -7.88480336e-01,\n",
       "         -7.81662614e-01, -7.74881033e-01, -7.68134903e-01, -7.61423551e-01,\n",
       "         -7.54746322e-01, -7.48102575e-01, -7.41491685e-01, -7.34913044e-01,\n",
       "         -7.28366057e-01, -7.21850142e-01, -7.15364731e-01, -7.08909270e-01,\n",
       "         -7.02483218e-01, -6.96086043e-01, -6.89717230e-01, -6.83376271e-01,\n",
       "         -6.77062670e-01, -6.70775943e-01, -6.64515617e-01, -6.58281226e-01,\n",
       "         -6.52072317e-01, -6.45888445e-01, -6.39729174e-01, -6.33594076e-01,\n",
       "         -6.27482735e-01, -6.21394740e-01, -6.15329690e-01, -6.09287191e-01,\n",
       "         -6.03266856e-01, -5.97268307e-01, -5.91291174e-01, -5.85335090e-01,\n",
       "         -5.79399700e-01, -5.73484651e-01, -5.67589599e-01, -5.61714207e-01,\n",
       "         -5.55858142e-01, -5.50021077e-01, -5.44202692e-01, -5.38402673e-01,\n",
       "         -5.32620709e-01, -5.26856497e-01, -5.21109737e-01, -5.15380136e-01,\n",
       "         -5.09667405e-01, -5.03971258e-01, -4.98291417e-01, -4.92627606e-01,\n",
       "         -4.86979553e-01, -4.81346993e-01, -4.75729663e-01, -4.70127305e-01,\n",
       "         -4.64539663e-01, -4.58966488e-01, -4.53407532e-01, -4.47862553e-01,\n",
       "         -4.42331309e-01, -4.36813566e-01, -4.31309089e-01, -4.25817651e-01,\n",
       "         -4.20339023e-01, -4.14872983e-01, -4.09419311e-01, -4.03977788e-01,\n",
       "         -3.98548202e-01, -3.93130339e-01, -3.87723992e-01, -3.82328953e-01,\n",
       "         -3.76945020e-01, -3.71571992e-01, -3.66209669e-01, -3.60857856e-01,\n",
       "         -3.55516359e-01, -3.50184986e-01, -3.44863547e-01, -3.39551857e-01,\n",
       "         -3.34249730e-01, -3.28956983e-01, -3.23673435e-01, -3.18398908e-01,\n",
       "         -3.13133223e-01, -3.07876207e-01, -3.02627686e-01, -2.97387487e-01,\n",
       "         -2.92155443e-01, -2.86931384e-01, -2.81715143e-01, -2.76506557e-01,\n",
       "         -2.71305462e-01, -2.66111695e-01, -2.60925097e-01, -2.55745509e-01,\n",
       "         -2.50572773e-01, -2.45406732e-01, -2.40247233e-01, -2.35094122e-01,\n",
       "         -2.29947246e-01, -2.24806454e-01, -2.19671596e-01, -2.14542524e-01,\n",
       "         -2.09419090e-01, -2.04301147e-01, -1.99188550e-01, -1.94081154e-01,\n",
       "         -1.88978816e-01, -1.83881393e-01, -1.78788743e-01, -1.73700727e-01,\n",
       "         -1.68617203e-01, -1.63538032e-01, -1.58463078e-01, -1.53392201e-01,\n",
       "         -1.48325265e-01, -1.43262135e-01, -1.38202675e-01, -1.33146749e-01,\n",
       "         -1.28094226e-01, -1.23044970e-01, -1.17998849e-01, -1.12955731e-01,\n",
       "         -1.07915484e-01, -1.02877978e-01, -9.78430801e-02, -9.28106619e-02,\n",
       "         -8.77805930e-02, -8.27527442e-02, -7.77269864e-02, -7.27031911e-02,\n",
       "         -6.76812301e-02, -6.26609755e-02, -5.76422995e-02, -5.26250751e-02,\n",
       "         -4.76091750e-02, -4.25944724e-02, -3.75808407e-02, -3.25681535e-02,\n",
       "         -2.75562846e-02, -2.25451077e-02, -1.75344969e-02, -1.25243263e-02,\n",
       "         -7.51447003e-03, -2.50480239e-03,  2.50480239e-03,  7.51447003e-03,\n",
       "          1.25243263e-02,  1.75344969e-02,  2.25451077e-02,  2.75562846e-02,\n",
       "          3.25681535e-02,  3.75808407e-02,  4.25944724e-02,  4.76091750e-02,\n",
       "          5.26250751e-02,  5.76422995e-02,  6.26609755e-02,  6.76812301e-02,\n",
       "          7.27031911e-02,  7.77269864e-02,  8.27527442e-02,  8.77805930e-02,\n",
       "          9.28106619e-02,  9.78430801e-02,  1.02877978e-01,  1.07915484e-01,\n",
       "          1.12955731e-01,  1.17998849e-01,  1.23044970e-01,  1.28094226e-01,\n",
       "          1.33146749e-01,  1.38202675e-01,  1.43262135e-01,  1.48325265e-01,\n",
       "          1.53392201e-01,  1.58463078e-01,  1.63538032e-01,  1.68617203e-01,\n",
       "          1.73700727e-01,  1.78788743e-01,  1.83881393e-01,  1.88978816e-01,\n",
       "          1.94081154e-01,  1.99188550e-01,  2.04301147e-01,  2.09419090e-01,\n",
       "          2.14542524e-01,  2.19671596e-01,  2.24806454e-01,  2.29947246e-01,\n",
       "          2.35094122e-01,  2.40247233e-01,  2.45406732e-01,  2.50572773e-01,\n",
       "          2.55745509e-01,  2.60925097e-01,  2.66111695e-01,  2.71305462e-01,\n",
       "          2.76506557e-01,  2.81715143e-01,  2.86931384e-01,  2.92155443e-01,\n",
       "          2.97387487e-01,  3.02627686e-01,  3.07876207e-01,  3.13133223e-01,\n",
       "          3.18398908e-01,  3.23673435e-01,  3.28956983e-01,  3.34249730e-01,\n",
       "          3.39551857e-01,  3.44863547e-01,  3.50184986e-01,  3.55516359e-01,\n",
       "          3.60857856e-01,  3.66209669e-01,  3.71571992e-01,  3.76945020e-01,\n",
       "          3.82328953e-01,  3.87723992e-01,  3.93130339e-01,  3.98548202e-01,\n",
       "          4.03977788e-01,  4.09419311e-01,  4.14872983e-01,  4.20339023e-01,\n",
       "          4.25817651e-01,  4.31309089e-01,  4.36813566e-01,  4.42331309e-01,\n",
       "          4.47862553e-01,  4.53407532e-01,  4.58966488e-01,  4.64539663e-01,\n",
       "          4.70127305e-01,  4.75729663e-01,  4.81346993e-01,  4.86979553e-01,\n",
       "          4.92627606e-01,  4.98291417e-01,  5.03971258e-01,  5.09667405e-01,\n",
       "          5.15380136e-01,  5.21109737e-01,  5.26856497e-01,  5.32620709e-01,\n",
       "          5.38402673e-01,  5.44202692e-01,  5.50021077e-01,  5.55858142e-01,\n",
       "          5.61714207e-01,  5.67589599e-01,  5.73484651e-01,  5.79399700e-01,\n",
       "          5.85335090e-01,  5.91291174e-01,  5.97268307e-01,  6.03266856e-01,\n",
       "          6.09287191e-01,  6.15329690e-01,  6.21394740e-01,  6.27482735e-01,\n",
       "          6.33594076e-01,  6.39729174e-01,  6.45888445e-01,  6.52072317e-01,\n",
       "          6.58281226e-01,  6.64515617e-01,  6.70775943e-01,  6.77062670e-01,\n",
       "          6.83376271e-01,  6.89717230e-01,  6.96086043e-01,  7.02483218e-01,\n",
       "          7.08909270e-01,  7.15364731e-01,  7.21850142e-01,  7.28366057e-01,\n",
       "          7.34913044e-01,  7.41491685e-01,  7.48102575e-01,  7.54746322e-01,\n",
       "          7.61423551e-01,  7.68134903e-01,  7.74881033e-01,  7.81662614e-01,\n",
       "          7.88480336e-01,  7.95334905e-01,  8.02227049e-01,  8.09157513e-01,\n",
       "          8.16127061e-01,  8.23136480e-01,  8.30186576e-01,  8.37278180e-01,\n",
       "          8.44412143e-01,  8.51589342e-01,  8.58810678e-01,  8.66077081e-01,\n",
       "          8.73389502e-01,  8.80748927e-01,  8.88156365e-01,  8.95612861e-01,\n",
       "          9.03119487e-01,  9.10677353e-01,  9.18287599e-01,  9.25951403e-01,\n",
       "          9.33669982e-01,  9.41444591e-01,  9.49276525e-01,  9.57167125e-01,\n",
       "          9.65117774e-01,  9.73129904e-01,  9.81204996e-01,  9.89344581e-01,\n",
       "          9.97550247e-01,  1.00582364e+00,  1.01416645e+00,  1.02258046e+00,\n",
       "          1.03106750e+00,  1.03962946e+00,  1.04826831e+00,  1.05698612e+00,\n",
       "          1.06578501e+00,  1.07466719e+00,  1.08363498e+00,  1.09269077e+00,\n",
       "          1.10183707e+00,  1.11107648e+00,  1.12041173e+00,  1.12984566e+00,\n",
       "          1.13938123e+00,  1.14902154e+00,  1.15876983e+00,  1.16862950e+00,\n",
       "          1.17860411e+00,  1.18869738e+00,  1.19891322e+00,  1.20925574e+00,\n",
       "          1.21972926e+00,  1.23033831e+00,  1.24108768e+00,  1.25198239e+00,\n",
       "          1.26302778e+00,  1.27422944e+00,  1.28559331e+00,  1.29712567e+00,\n",
       "          1.30883317e+00,  1.32072287e+00,  1.33280226e+00,  1.34507932e+00,\n",
       "          1.35756253e+00,  1.37026095e+00,  1.38318426e+00,  1.39634279e+00,\n",
       "          1.40974764e+00,  1.42341071e+00,  1.43734479e+00,  1.45156367e+00,\n",
       "          1.46608224e+00,  1.48091659e+00,  1.49608418e+00,  1.51160399e+00,\n",
       "          1.52749667e+00,  1.54378481e+00,  1.56049314e+00,  1.57764883e+00,\n",
       "          1.59528183e+00,  1.61342528e+00,  1.63211595e+00,  1.65139483e+00,\n",
       "          1.67130780e+00,  1.69190643e+00,  1.71324904e+00,  1.73540186e+00,\n",
       "          1.75844061e+00,  1.78245240e+00,  1.80753820e+00,  1.83381593e+00,\n",
       "          1.86142459e+00,  1.89052965e+00,  1.92133033e+00,  1.95406954e+00,\n",
       "          1.98904794e+00,  2.02664403e+00,  2.06734403e+00,  2.11178767e+00,\n",
       "          2.16084152e+00,  2.21572267e+00,  2.27822091e+00,  2.35113311e+00,\n",
       "          2.43921385e+00,  2.55162541e+00,  2.71015927e+00,  2.99209858e+00]),\n",
       "  array([11.1824434 , 11.18473822, 11.18830521, 11.19382261, 11.20258369,\n",
       "         11.20325492, 11.20355363, 11.20505423, 11.20609094, 11.20625611,\n",
       "         11.2079043 , 11.21138343, 11.21287699, 11.21341468, 11.2142827 ,\n",
       "         11.21573761, 11.21579735, 11.21644749, 11.21674621, 11.21906563,\n",
       "         11.21948031, 11.21979308, 11.22034833, 11.22213007, 11.22245338,\n",
       "         11.22327924, 11.22662131, 11.22713439, 11.22731011, 11.22771776,\n",
       "         11.22815002, 11.22822382, 11.2283187 , 11.22885287, 11.22957681,\n",
       "         11.22997744, 11.23038158, 11.23081032, 11.23154129, 11.23157292,\n",
       "         11.23189623, 11.23309108, 11.23465845, 11.23483065, 11.23608524,\n",
       "         11.23640153, 11.23664401, 11.23698138, 11.23704112, 11.23742769,\n",
       "         11.23755772, 11.23802863, 11.23852766, 11.23865417, 11.23902669,\n",
       "         11.23916726, 11.23991228, 11.23992283, 11.24141639, 11.24158508,\n",
       "         11.24160968, 11.24163779, 11.24169753, 11.24231605, 11.24278344,\n",
       "         11.24281859, 11.24329653, 11.24353901, 11.24396424, 11.24425592,\n",
       "         11.24438244, 11.24446327, 11.24460384, 11.24470224, 11.24473035,\n",
       "         11.24482172, 11.24492715, 11.24534183, 11.24545078, 11.24585492,\n",
       "         11.24586195, 11.24649803, 11.24708843, 11.2472782 , 11.24735551,\n",
       "         11.24748202, 11.2476472 , 11.24791779, 11.24809351, 11.24811811,\n",
       "         11.24844845, 11.24918996, 11.2492497 , 11.2493727 , 11.25008259,\n",
       "         11.25017747, 11.25060621, 11.25065541, 11.25088735, 11.2511193 ,\n",
       "         11.25147775, 11.25171321, 11.25188541, 11.25189244, 11.25201895,\n",
       "         11.25222981, 11.25248986, 11.25299943, 11.25305566, 11.25328409,\n",
       "         11.25384637, 11.25398343, 11.2544684 , 11.25458085, 11.25487605,\n",
       "         11.25488659, 11.25505528, 11.25508691, 11.25525559, 11.25577219,\n",
       "         11.25590925, 11.25621147, 11.2565875 , 11.25684404, 11.25686513,\n",
       "         11.25702679, 11.25707247, 11.2574977 , 11.2575223 , 11.25800024,\n",
       "         11.25810215, 11.25842898, 11.25844304, 11.25859415, 11.25865741,\n",
       "         11.25881555, 11.25891746, 11.25895964, 11.25947623, 11.25970466,\n",
       "         11.25977846, 11.25985577, 11.26035129, 11.2605024 , 11.26053403,\n",
       "         11.26064649, 11.26068163, 11.26083977, 11.26097331, 11.2612896 ,\n",
       "         11.2613634 , 11.26144071, 11.26180619, 11.26218222, 11.26227359,\n",
       "         11.26281479, 11.26318028, 11.26321893, 11.26322947, 11.26338762,\n",
       "         11.26359496, 11.26368633, 11.2644419 , 11.26454381, 11.26457544,\n",
       "         11.2647617 , 11.26483901, 11.26504284, 11.26541184, 11.26546455,\n",
       "         11.26611821, 11.26614281, 11.26634312, 11.26644152, 11.26677186,\n",
       "         11.26709869, 11.26725683, 11.26732009, 11.26743254, 11.26772071,\n",
       "         11.267791  , 11.26825137, 11.26838843, 11.26864848, 11.26938648,\n",
       "         11.26955165, 11.26982225, 11.26989956, 11.27000499, 11.27000499,\n",
       "         11.2701069 , 11.27039156, 11.27042319, 11.27065162, 11.27087302,\n",
       "         11.27089762, 11.2709679 , 11.27140016, 11.27146341, 11.27182538,\n",
       "         11.2718535 , 11.27223655, 11.27256338, 11.27274261, 11.27291481,\n",
       "         11.27308701, 11.27322758, 11.27336815, 11.27396909, 11.2742924 ,\n",
       "         11.27455597, 11.27467546, 11.27471411, 11.27503743, 11.27530451,\n",
       "         11.27552942, 11.27571217, 11.27575082, 11.27606359, 11.27607765,\n",
       "         11.27635879, 11.27653802, 11.27671373, 11.27682971, 11.27694568,\n",
       "         11.2769527 , 11.2769773 , 11.27720573, 11.27725142, 11.27727602,\n",
       "         11.27733927, 11.27770827, 11.2779121 , 11.2780597 , 11.27836544,\n",
       "         11.27838301, 11.27846033, 11.27860793, 11.27994686, 11.28058646,\n",
       "         11.28083246, 11.28117334, 11.2812612 , 11.28151072, 11.28184106,\n",
       "         11.28203434, 11.28229088, 11.28238577, 11.28250877, 11.28252634,\n",
       "         11.28253688, 11.28272314, 11.28278991, 11.28314134, 11.28398828,\n",
       "         11.28416399, 11.28446973, 11.28469816, 11.28474033, 11.28484927,\n",
       "         11.2850285 , 11.28556267, 11.28580515, 11.28592464, 11.2860125 ,\n",
       "         11.28606521, 11.28624444, 11.28626904, 11.2863077 , 11.28664507,\n",
       "         11.28678915, 11.28686295, 11.28696838, 11.28699298, 11.28710895,\n",
       "         11.28711949, 11.28720735, 11.28752363, 11.28766772, 11.28801563,\n",
       "         11.28801915, 11.28806483, 11.28822649, 11.2882546 , 11.28858143,\n",
       "         11.28905937, 11.28936863, 11.28947405, 11.28947405, 11.2894846 ,\n",
       "         11.29010311, 11.29016637, 11.29018042, 11.29076379, 11.29080245,\n",
       "         11.29098871, 11.29106602, 11.2914315 , 11.29150179, 11.29210976,\n",
       "         11.29266853, 11.29273178, 11.29294967, 11.2932765 , 11.29331515,\n",
       "         11.29344518, 11.29394069, 11.29416209, 11.29428158, 11.29433781,\n",
       "         11.29509689, 11.29521989, 11.29547994, 11.29560294, 11.29560294,\n",
       "         11.29567323, 11.29593329, 11.29605277, 11.29621091, 11.29674157,\n",
       "         11.29675211, 11.29711759, 11.29722302, 11.29742685, 11.29763068,\n",
       "         11.29792939, 11.29811565, 11.2981543 , 11.29825973, 11.29829136,\n",
       "         11.29831596, 11.29833353, 11.29864279, 11.2987939 , 11.29890284,\n",
       "         11.29922616, 11.29926833, 11.29961273, 11.29963381, 11.29964787,\n",
       "         11.29983413, 11.29996415, 11.30047021, 11.30052292, 11.30085678,\n",
       "         11.30089544, 11.30102546, 11.30107466, 11.30115198, 11.30138743,\n",
       "         11.30154558, 11.30205866, 11.30206217, 11.30224492, 11.30304968,\n",
       "         11.30406531, 11.30407234, 11.30417074, 11.30423399, 11.30444134,\n",
       "         11.30509851, 11.30533396, 11.30537613, 11.3056151 , 11.30621253,\n",
       "         11.30638121, 11.3064023 , 11.3066237 , 11.3067467 , 11.30696458,\n",
       "         11.30697513, 11.30702433, 11.30723167, 11.30758309, 11.30762527,\n",
       "         11.30769907, 11.30774827, 11.30777638, 11.30783261, 11.30794155,\n",
       "         11.30805401, 11.30807158, 11.30812781, 11.30849329, 11.30862683,\n",
       "         11.30909775, 11.30965652, 11.30980763, 11.30995171, 11.31005011,\n",
       "         11.31013094, 11.31022583, 11.31023988, 11.31073891, 11.31076702,\n",
       "         11.31091814, 11.31153665, 11.31211651, 11.3121903 , 11.31226762,\n",
       "         11.31240116, 11.3129529 , 11.3130759 , 11.31313213, 11.31313213,\n",
       "         11.31350113, 11.31362061, 11.31378578, 11.31448864, 11.3145765 ,\n",
       "         11.31662532, 11.31675183, 11.3168432 , 11.3173352 , 11.31745117,\n",
       "         11.3177042 , 11.31774285, 11.31789045, 11.31813997, 11.31905368,\n",
       "         11.31961947, 11.31993224, 11.32042424, 11.32091624, 11.3211517 ,\n",
       "         11.32129227, 11.3215207 , 11.32158395, 11.32161558, 11.32216029,\n",
       "         11.32217786, 11.32259958, 11.323443  , 11.32429697, 11.32484168,\n",
       "         11.32580811, 11.32588893, 11.32591002, 11.32596625, 11.32616305,\n",
       "         11.32656719, 11.32761444, 11.32796236, 11.32822593, 11.32949809,\n",
       "         11.3303134 , 11.33039775, 11.33050669, 11.33194402, 11.33224977,\n",
       "         11.33308616, 11.33376442, 11.33431967, 11.33487844, 11.33491358,\n",
       "         11.33536341, 11.33593272, 11.33637552, 11.33695186, 11.33701863,\n",
       "         11.33731383, 11.337971  , 11.33971408, 11.34042045, 11.34072267,\n",
       "         11.34170316, 11.34221624, 11.34325646, 11.34401203, 11.344128  ,\n",
       "         11.3461698 , 11.34617682, 11.34640174, 11.34911476, 11.3497649 ,\n",
       "         11.34978598, 11.35071023, 11.3522776 , 11.35456188, 11.35491682,\n",
       "         11.35499413, 11.35563021, 11.35623818, 11.35998088, 11.36001603,\n",
       "         11.36725542, 11.36806371, 11.36816211, 11.3690477 , 11.37050261,\n",
       "         11.37085404, 11.37088215, 11.37353191, 11.37428748, 11.37443508,\n",
       "         11.37471271, 11.3776155 , 11.37896849, 11.38956402, 11.39341215])),\n",
       " (0.03777466718563097, 11.283244614378994, 0.9979748364604202))"
      ]
     },
     "execution_count": 127,
     "metadata": {},
     "output_type": "execute_result"
    },
    {
     "data": {
      "image/png": "[encoded data removed]",
      "text/plain": [
       "<Figure size 432x288 with 1 Axes>"
      ]
     },
     "metadata": {
      "needs_background": "light"
     },
     "output_type": "display_data"
    }
   ],
   "source": [
    "plt.figure()\n",
    "stats.probplot(mean, dist=\"norm\", plot=pylab, rvalue=True)"
   ]
  },
  {
   "cell_type": "code",
   "execution_count": 128,
   "metadata": {},
   "outputs": [
    {
     "data": {
      "text/plain": [
       "((array([409.75447609, 417.6076492 , 422.06789456, 425.24996033,\n",
       "         427.75458277, 429.83540071, 431.6244473 , 433.19958802,\n",
       "         434.61075771, 435.89197548, 437.06750372, 438.15527962,\n",
       "         439.16895419, 440.11916758, 441.0143809 , 441.86143812,\n",
       "         442.66595697, 443.43260794, 444.16531782, 444.86742108,\n",
       "         445.54177438, 446.19084464, 446.81677748, 447.42145127,\n",
       "         448.00652022, 448.57344901, 449.12354099, 449.6579613 ,\n",
       "         450.17775596, 450.68386771, 451.17714938, 451.65837504,\n",
       "         452.12824958, 452.58741674, 453.03646615, 453.47593922,\n",
       "         453.90633437, 454.32811152, 454.74169597, 455.14748186,\n",
       "         455.54583518, 455.93709642, 456.3215829 , 456.69959087,\n",
       "         457.07139736, 457.43726183, 457.79742761, 458.1521233 ,\n",
       "         458.50156388, 458.84595184, 459.1854781 , 459.52032292,\n",
       "         459.85065667, 460.17664058, 460.49842735, 460.81616179,\n",
       "         461.12998133, 461.44001656, 461.74639164, 462.04922476,\n",
       "         462.3486285 , 462.64471019, 462.93757225, 463.22731247,\n",
       "         463.51402431, 463.79779714, 464.07871649, 464.35686427,\n",
       "         464.63231897, 464.90515586, 465.17544715, 465.44326219,\n",
       "         465.70866759, 465.97172738, 466.23250314, 466.49105414,\n",
       "         466.74743742, 467.00170797, 467.25391874, 467.50412083,\n",
       "         467.75236352, 467.99869437, 468.24315933, 468.48580276,\n",
       "         468.72666756, 468.9657952 , 469.20322579, 469.43899817,\n",
       "         469.67314992, 469.90571743, 470.13673598, 470.36623974,\n",
       "         470.59426187, 470.82083452, 471.04598887, 471.26975521,\n",
       "         471.49216293, 471.71324059, 471.93301594, 472.15151593,\n",
       "         472.36876679, 472.58479402, 472.79962241, 473.01327612,\n",
       "         473.22577862, 473.43715282, 473.64742098, 473.85660482,\n",
       "         474.06472549, 474.27180363, 474.47785934, 474.68291223,\n",
       "         474.88698145, 475.09008566, 475.29224309, 475.49347153,\n",
       "         475.69378836, 475.89321056, 476.09175471, 476.28943702,\n",
       "         476.48627333, 476.68227913, 476.87746958, 477.07185948,\n",
       "         477.26546334, 477.45829534, 477.65036938, 477.84169905,\n",
       "         478.03229766, 478.22217826, 478.41135362, 478.59983627,\n",
       "         478.78763846, 478.97477223, 479.16124937, 479.34708144,\n",
       "         479.5322798 , 479.71685555, 479.90081964, 480.08418277,\n",
       "         480.26695546, 480.44914804, 480.63077065, 480.81183327,\n",
       "         480.99234567, 481.17231747, 481.35175812, 481.53067691,\n",
       "         481.70908297, 481.88698529, 482.06439268, 482.24131385,\n",
       "         482.41775732, 482.59373152, 482.76924472, 482.94430506,\n",
       "         483.11892057, 483.29309913, 483.46684854, 483.64017644,\n",
       "         483.81309039, 483.98559783, 484.15770608, 484.32942237,\n",
       "         484.50075382, 484.67170745, 484.8422902 , 485.01250889,\n",
       "         485.18237027, 485.35188099, 485.5210476 , 485.68987659,\n",
       "         485.85837436, 486.02654722, 486.1944014 , 486.36194308,\n",
       "         486.52917832, 486.69611315, 486.86275351, 487.02910527,\n",
       "         487.19517424, 487.36096615, 487.52648669, 487.69174147,\n",
       "         487.85673604, 488.02147589, 488.18596648, 488.35021316,\n",
       "         488.51422128, 488.67799611, 488.84154287, 489.00486673,\n",
       "         489.16797282, 489.33086621, 489.49355193, 489.65603496,\n",
       "         489.81832026, 489.98041271, 490.14231717, 490.30403846,\n",
       "         490.46558136, 490.62695061, 490.78815091, 490.94918693,\n",
       "         491.1100633 , 491.27078462, 491.43135545, 491.59178034,\n",
       "         491.75206378, 491.91221026, 492.07222421, 492.23211006,\n",
       "         492.39187219, 492.55151498, 492.71104276, 492.87045985,\n",
       "         493.02977055, 493.18897913, 493.34808983, 493.50710688,\n",
       "         493.6660345 , 493.82487688, 493.98363818, 494.14232257,\n",
       "         494.30093417, 494.45947713, 494.61795553, 494.77637348,\n",
       "         494.93473505, 495.09304432, 495.25130533, 495.40952214,\n",
       "         495.56769878, 495.72583927, 495.88394762, 496.04202785,\n",
       "         496.20008395, 496.35811992, 496.51613974, 496.67414739,\n",
       "         496.83214685, 496.9901421 , 497.1481371 , 497.30613582,\n",
       "         497.46414222, 497.62216027, 497.78019393, 497.93824716,\n",
       "         498.09632394, 498.25442821, 498.41256396, 498.57073516,\n",
       "         498.72894577, 498.88719979, 499.04550118, 499.20385395,\n",
       "         499.36226209, 499.52072961, 499.67926051, 499.83785882,\n",
       "         499.99652857, 500.15527379, 500.31409855, 500.47300689,\n",
       "         500.6320029 , 500.79109066, 500.95027428, 501.10955787,\n",
       "         501.26894556, 501.4284415 , 501.58804986, 501.74777481,\n",
       "         501.90762055, 502.06759131, 502.22769132, 502.38792485,\n",
       "         502.54829617, 502.7088096 , 502.86946945, 503.03028007,\n",
       "         503.19124585, 503.35237119, 503.51366051, 503.67511828,\n",
       "         503.83674897, 503.99855711, 504.16054723, 504.32272391,\n",
       "         504.48509177, 504.64765544, 504.8104196 , 504.97338897,\n",
       "         505.13656828, 505.29996234, 505.46357595, 505.62741399,\n",
       "         505.79148136, 505.955783  , 506.12032391, 506.28510912,\n",
       "         506.4501437 , 506.61543279, 506.78098155, 506.94679522,\n",
       "         507.11287906, 507.27923839, 507.4458786 , 507.61280512,\n",
       "         507.78002343, 507.94753908, 508.11535769, 508.2834849 ,\n",
       "         508.45192645, 508.62068813, 508.78977579, 508.95919536,\n",
       "         509.12895283, 509.29905425, 509.46950577, 509.64031358,\n",
       "         509.81148398, 509.98302331, 510.15493802, 510.32723463,\n",
       "         510.49991974, 510.67300005, 510.84648233, 511.02037346,\n",
       "         511.19468038, 511.36941017, 511.54456996, 511.72016701,\n",
       "         511.89620869, 512.07270243, 512.24965583, 512.42707654,\n",
       "         512.60497236, 512.7833512 , 512.96222108, 513.14159016,\n",
       "         513.32146669, 513.50185909, 513.68277589, 513.86422576,\n",
       "         514.0462175 , 514.22876007, 514.41186257, 514.59553423,\n",
       "         514.77978447, 514.96462286, 515.1500591 , 515.33610309,\n",
       "         515.52276491, 515.71005479, 515.89798315, 516.0865606 ,\n",
       "         516.27579795, 516.4657062 , 516.65629654, 516.8475804 ,\n",
       "         517.03956939, 517.23227537, 517.42571041, 517.61988681,\n",
       "         517.81481714, 518.01051419, 518.20699101, 518.40426091,\n",
       "         518.6023375 , 518.80123463, 519.00096646, 519.20154744,\n",
       "         519.40299233, 519.6053162 , 519.80853445, 520.01266282,\n",
       "         520.21771737, 520.42371455, 520.63067116, 520.83860438,\n",
       "         521.04753181, 521.25747141, 521.4684416 , 521.68046121,\n",
       "         521.89354953, 522.10772631, 522.32301178, 522.53942666,\n",
       "         522.7569922 , 522.97573016, 523.19566287, 523.41681322,\n",
       "         523.63920469, 523.86286137, 524.08780801, 524.31406997,\n",
       "         524.54167335, 524.77064492, 525.0010122 , 525.23280347,\n",
       "         525.46604781, 525.70077513, 525.93701619, 526.17480264,\n",
       "         526.41416707, 526.65514303, 526.89776509, 527.14206885,\n",
       "         527.38809102, 527.63586946, 527.88544319, 528.13685249,\n",
       "         528.39013894, 528.64534548, 528.90251646, 529.16169769,\n",
       "         529.42293658, 529.68628211, 529.95178499, 530.21949771,\n",
       "         530.48947461, 530.76177201, 531.03644828, 531.31356394,\n",
       "         531.5931818 , 531.87536703, 532.16018736, 532.44771312,\n",
       "         532.73801745, 533.03117645, 533.3272693 , 533.62637848,\n",
       "         533.92858993, 534.23399326, 534.54268197, 534.85475367,\n",
       "         535.17031035, 535.48945862, 535.81231003, 536.13898137,\n",
       "         536.469595  , 536.80427924, 537.14316874, 537.48640494,\n",
       "         537.83413651, 538.18651989, 538.54371983, 538.90591001,\n",
       "         539.27327369, 539.64600445, 540.024307  , 540.40839804,\n",
       "         540.79850724, 541.19487833, 541.59777025, 542.00745848,\n",
       "         542.4242365 , 542.84841741, 543.28033575, 543.72034952,\n",
       "         544.16884245, 544.62622658, 545.09294513, 545.56947578,\n",
       "         546.05633439, 546.55407919, 547.06331567, 547.58470212,\n",
       "         548.11895597, 548.66686128, 549.22927728, 549.80714846,\n",
       "         550.40151635, 551.01353345, 551.6444798 , 552.29578272,\n",
       "         552.96904058, 553.66605164, 554.3888492 , 555.13974497,\n",
       "         555.92138291, 556.73680693, 557.58954684, 558.48372886,\n",
       "         559.42421968, 560.41681721, 561.46850732, 562.58781651,\n",
       "         563.7853068 , 565.0742885 , 566.4718777 , 568.00062101,\n",
       "         569.6910998 , 571.58632494, 573.74964871, 576.28025333,\n",
       "         579.34711248, 583.27672236, 588.8483932 , 598.84337406]),\n",
       "  array([19.77509601, 19.81076857, 19.88279318, 19.92103752, 19.93896792,\n",
       "         19.94248293, 19.95119625, 19.95374184, 19.96301404, 19.9656584 ,\n",
       "         19.97112569, 19.97569061, 19.9795405 , 19.98011399, 19.98277765,\n",
       "         19.98600306, 19.98676234, 19.99569715, 20.00297228, 20.00812022,\n",
       "         20.00920806, 20.00977379, 20.0137021 , 20.01405836, 20.01790611,\n",
       "         20.01819301, 20.02445119, 20.03607036, 20.04165086, 20.0449274 ,\n",
       "         20.04670062, 20.04707031, 20.04902909, 20.05119944, 20.05279148,\n",
       "         20.0532915 , 20.05364102, 20.05378931, 20.05682412, 20.05778198,\n",
       "         20.05869428, 20.05957544, 20.06040696, 20.06090801, 20.06498391,\n",
       "         20.07140868, 20.07619274, 20.07711198, 20.07746261, 20.07749947,\n",
       "         20.07889065, 20.07941876, 20.07983293, 20.08034478, 20.08268765,\n",
       "         20.08355395, 20.08792648, 20.08976955, 20.08987978, 20.09054017,\n",
       "         20.09101986, 20.09129991, 20.09321214, 20.09428866, 20.098726  ,\n",
       "         20.09945828, 20.10010283, 20.10471046, 20.10665681, 20.1076698 ,\n",
       "         20.10901293, 20.11116887, 20.11127393, 20.11175424, 20.11342988,\n",
       "         20.1155194 , 20.11561267, 20.11993413, 20.12345795, 20.13019389,\n",
       "         20.13123333, 20.13134731, 20.13227903, 20.13305326, 20.13369564,\n",
       "         20.13412295, 20.1367791 , 20.1373357 , 20.1376582 , 20.13873068,\n",
       "         20.1388416 , 20.13973026, 20.14442014, 20.14624056, 20.14653802,\n",
       "         20.14814663, 20.15342835, 20.15405249, 20.15418969, 20.1547025 ,\n",
       "         20.15662846, 20.15913028, 20.16064796, 20.16143953, 20.16257146,\n",
       "         20.16308503, 20.16337391, 20.16366858, 20.16545487, 20.16554755,\n",
       "         20.16614525, 20.16782377, 20.16924306, 20.16967924, 20.17127685,\n",
       "         20.1712769 , 20.17289849, 20.17333031, 20.17377856, 20.17515094,\n",
       "         20.1771616 , 20.1772198 , 20.17952894, 20.17992271, 20.18047328,\n",
       "         20.18283861, 20.18332685, 20.18409875, 20.18471703, 20.18474107,\n",
       "         20.18571008, 20.1863533 , 20.1888139 , 20.1909362 , 20.19097741,\n",
       "         20.19198983, 20.19387083, 20.19533885, 20.19566001, 20.19597958,\n",
       "         20.19823935, 20.19984665, 20.19992695, 20.20020252, 20.20028349,\n",
       "         20.20233565, 20.20343584, 20.20480503, 20.20512422, 20.2051492 ,\n",
       "         20.20598551, 20.20695457, 20.20715877, 20.20731166, 20.20782319,\n",
       "         20.20794879, 20.20824864, 20.20940989, 20.20968316, 20.20996616,\n",
       "         20.21004342, 20.21041174, 20.21111158, 20.21258619, 20.21326609,\n",
       "         20.21448792, 20.2160027 , 20.21605197, 20.21623955, 20.2166719 ,\n",
       "         20.21701878, 20.21935889, 20.22003535, 20.22098961, 20.22307652,\n",
       "         20.22372004, 20.22574994, 20.22823514, 20.22844975, 20.22903877,\n",
       "         20.22904857, 20.23144016, 20.23317672, 20.23335493, 20.23481066,\n",
       "         20.23493415, 20.23516381, 20.23582311, 20.23655135, 20.23686178,\n",
       "         20.23687998, 20.23769179, 20.23798882, 20.23873052, 20.23887567,\n",
       "         20.2406897 , 20.24088672, 20.24114777, 20.24153384, 20.24205931,\n",
       "         20.24333773, 20.24603519, 20.248075  , 20.24836632, 20.24844768,\n",
       "         20.24882744, 20.25040408, 20.25411946, 20.25630906, 20.25701704,\n",
       "         20.25720672, 20.25768439, 20.25771695, 20.25773479, 20.25818003,\n",
       "         20.25895831, 20.26046634, 20.2609672 , 20.26177572, 20.26387196,\n",
       "         20.26466944, 20.26470558, 20.26528478, 20.26568861, 20.26570133,\n",
       "         20.26613184, 20.26651116, 20.2665213 , 20.26860385, 20.27024826,\n",
       "         20.27233838, 20.27341841, 20.27417121, 20.27426609, 20.27480083,\n",
       "         20.27597378, 20.27603724, 20.27767855, 20.27866697, 20.2799179 ,\n",
       "         20.28057725, 20.28106888, 20.28111095, 20.28135785, 20.28183913,\n",
       "         20.2820507 , 20.28549719, 20.28556525, 20.28608795, 20.28688191,\n",
       "         20.2871998 , 20.28722176, 20.28861362, 20.28895686, 20.28995203,\n",
       "         20.2902365 , 20.29034938, 20.29300596, 20.29307247, 20.29354422,\n",
       "         20.29594388, 20.29600422, 20.29654612, 20.29659691, 20.29681732,\n",
       "         20.29695686, 20.29790246, 20.29810547, 20.29881358, 20.30371784,\n",
       "         20.30563997, 20.30776693, 20.3088033 , 20.3093053 , 20.31034638,\n",
       "         20.31077009, 20.3122302 , 20.31302178, 20.31312505, 20.3138725 ,\n",
       "         20.31443919, 20.31625894, 20.31784007, 20.31959955, 20.31971826,\n",
       "         20.32043398, 20.32078904, 20.32126362, 20.32305525, 20.32325826,\n",
       "         20.32358217, 20.32424429, 20.32552792, 20.32620142, 20.3266174 ,\n",
       "         20.32707711, 20.32766029, 20.3292002 , 20.32953013, 20.32991866,\n",
       "         20.33019173, 20.33053675, 20.33432338, 20.33596848, 20.33740219,\n",
       "         20.33800967, 20.3387601 , 20.33902684, 20.33970209, 20.34005854,\n",
       "         20.34138693, 20.3426493 , 20.34283845, 20.34371807, 20.34442484,\n",
       "         20.34449351, 20.3461051 , 20.34662514, 20.34664518, 20.34862035,\n",
       "         20.34886024, 20.34925517, 20.34944048, 20.35070621, 20.35115684,\n",
       "         20.35147108, 20.35263975, 20.35417671, 20.35471965, 20.35529492,\n",
       "         20.35680139, 20.35681744, 20.35749751, 20.35862996, 20.35960003,\n",
       "         20.3631591 , 20.36380236, 20.36432545, 20.36519285, 20.36851945,\n",
       "         20.36878536, 20.3689003 , 20.36922871, 20.36935487, 20.36983079,\n",
       "         20.37015908, 20.37020423, 20.37112945, 20.37213566, 20.37281776,\n",
       "         20.3765544 , 20.37673043, 20.37697384, 20.37810273, 20.38004043,\n",
       "         20.38058872, 20.38148205, 20.38162308, 20.38170726, 20.3835467 ,\n",
       "         20.38367153, 20.38506411, 20.38600874, 20.38614207, 20.38707588,\n",
       "         20.38759279, 20.3876122 , 20.38831962, 20.38871732, 20.39148099,\n",
       "         20.39155738, 20.39205468, 20.39237684, 20.39354095, 20.39376405,\n",
       "         20.39446068, 20.39548775, 20.39637199, 20.39736439, 20.39900035,\n",
       "         20.39972795, 20.3999088 , 20.40117056, 20.40154434, 20.40308099,\n",
       "         20.40374383, 20.40474639, 20.40546694, 20.40621806, 20.40628921,\n",
       "         20.40662124, 20.40728111, 20.40891287, 20.41053075, 20.41152451,\n",
       "         20.41250217, 20.41260815, 20.41322745, 20.41418408, 20.41481171,\n",
       "         20.41548906, 20.4156381 , 20.41620622, 20.41637192, 20.41696955,\n",
       "         20.41711547, 20.41784478, 20.41826407, 20.42015244, 20.4218702 ,\n",
       "         20.42295668, 20.42349827, 20.4235746 , 20.42496548, 20.42537965,\n",
       "         20.42699534, 20.42742363, 20.42755826, 20.4278925 , 20.42912582,\n",
       "         20.43147065, 20.43810845, 20.43983924, 20.44061149, 20.44197495,\n",
       "         20.44297371, 20.442976  , 20.44347618, 20.44478168, 20.44510299,\n",
       "         20.44538328, 20.4455037 , 20.44722967, 20.45133027, 20.45162879,\n",
       "         20.45297243, 20.45811998, 20.45839823, 20.46260859, 20.46330423,\n",
       "         20.46389227, 20.46877051, 20.47319106, 20.4740264 , 20.47528665,\n",
       "         20.47929791, 20.48055768, 20.48214962, 20.48880597, 20.49016   ,\n",
       "         20.49028662, 20.49434828, 20.49580613, 20.49942067, 20.5007505 ,\n",
       "         20.50533823, 20.50578341, 20.50623617, 20.50695871, 20.50882855,\n",
       "         20.51401388, 20.51639372, 20.5176233 , 20.51966341, 20.52008759,\n",
       "         20.52049161, 20.52145684, 20.53014208, 20.53186381, 20.53644728,\n",
       "         20.53989646, 20.54204173, 20.54728452, 20.54787826, 20.54831294,\n",
       "         20.5513894 , 20.55145684, 20.58069666, 20.58629053, 20.58753181,\n",
       "         20.59405525, 20.59666027, 20.60685012, 20.60918147, 20.60958349,\n",
       "         20.61504003, 20.62723687, 20.63750196, 20.64208717, 20.64471124,\n",
       "         20.65355784, 20.6552789 , 20.65572179, 20.66185167, 20.66627972,\n",
       "         20.67844764, 20.71636923, 20.7478853 , 20.77157406, 20.84787824])),\n",
       " (0.00514534401324344, 17.720360138346127, 0.9986400904214092))"
      ]
     },
     "execution_count": 128,
     "metadata": {},
     "output_type": "execute_result"
    },
    {
     "data": {
      "image/png": "[encoded data removed]",
      "text/plain": [
       "<Figure size 432x288 with 1 Axes>"
      ]
     },
     "metadata": {
      "needs_background": "light"
     },
     "output_type": "display_data"
    }
   ],
   "source": [
    "plt.figure()\n",
    "stats.probplot(control_boot_chi_squared, dist=\"chi2\", sparams=(len(control_boot_chi_squared)-1), plot=plt, rvalue=True)"
   ]
  },
  {
   "cell_type": "markdown",
   "metadata": {},
   "source": [
    "### 5\n",
    "Одним из возможных аналогов t-критерия, которым можно воспрользоваться, является тест Манна-Уитни. На достаточно обширном классе распределений он является асимптотически более эффективным, чем t-критерий, и при этом не требует параметрических предположений о характере распределения.\n",
    "\n",
    "Разделите выборку на две части, соответствующие control и exp группам. Преобразуйте данные к виду, чтобы каждому пользователю соответствовало суммарное значение его кликов. С помощью критерия Манна-Уитни проверьте гипотезу о равенстве средних. Что можно сказать о получившемся значении достигаемого уровня значимости ? Выберите все правильные ответы\n"
   ]
  },
  {
   "cell_type": "code",
   "execution_count": 129,
   "metadata": {},
   "outputs": [],
   "source": [
    "data_exp = data[data.slot == 'exp']\n",
    "data_control = data[data.slot == 'control']"
   ]
  },
  {
   "cell_type": "code",
   "execution_count": 130,
   "metadata": {},
   "outputs": [],
   "source": [
    "data_exp_new = data_exp.groupby(['userID']).sum()\n",
    "data_control_new = data_control.groupby(['userID']).sum()"
   ]
  },
  {
   "cell_type": "code",
   "execution_count": 131,
   "metadata": {},
   "outputs": [
    {
     "data": {
      "text/plain": [
       "MannwhitneyuResult(statistic=38901259929.0, pvalue=4.3471471887604393e-75)"
      ]
     },
     "execution_count": 131,
     "metadata": {},
     "output_type": "execute_result"
    }
   ],
   "source": [
    "stats.mannwhitneyu(data_exp_new.n_clicks, data_control_new.n_clicks)"
   ]
  },
  {
   "cell_type": "markdown",
   "metadata": {},
   "source": [
    "### 6\n",
    "Проверьте, для какого из браузеров наиболее сильно выражено отличие между количеством кликов в контрольной и экспериментальной группах.\n",
    "\n",
    "Для этого примените для каждого из срезов (по каждому из уникальных значений столбца browser) критерий Манна-Уитни между control и exp группами и сделайте поправку Холма-Бонферрони на множественную проверку с α=0.05.\n",
    "\n",
    "Какое заключение можно сделать исходя из полученных результатов ?\n",
    "\n",
    "В качестве ответа введите количество незначимых изменений с точки зрения результатов, полученных после введения коррекции."
   ]
  },
  {
   "cell_type": "code",
   "execution_count": 132,
   "metadata": {},
   "outputs": [
    {
     "data": {
      "text/plain": [
       "['Browser #17',\n",
       " 'Browser #22',\n",
       " 'Browser #4',\n",
       " 'Browser #14',\n",
       " 'Browser #20',\n",
       " 'Browser #2']"
      ]
     },
     "execution_count": 132,
     "metadata": {},
     "output_type": "execute_result"
    }
   ],
   "source": [
    "browsers = list(set(data.browser))\n",
    "browsers"
   ]
  },
  {
   "cell_type": "code",
   "execution_count": 133,
   "metadata": {},
   "outputs": [
    {
     "name": "stdout",
     "output_type": "stream",
     "text": [
      "Browser #17 MannwhitneyuResult(statistic=131389681.0, pvalue=0.03740060143010802)\n",
      "Browser #22 MannwhitneyuResult(statistic=2547597959.5, pvalue=0.2574055152210032)\n",
      "Browser #4 MannwhitneyuResult(statistic=3072447765.0, pvalue=0.40760617658454984)\n",
      "Browser #14 MannwhitneyuResult(statistic=806984730.5, pvalue=0.0)\n",
      "Browser #20 MannwhitneyuResult(statistic=143791805.0, pvalue=0.45366656388735377)\n",
      "Browser #2 MannwhitneyuResult(statistic=1522572720.0, pvalue=0.0272438604197241)\n",
      "[0.03740060143010802, 0.2574055152210032, 0.40760617658454984, 0.0, 0.45366656388735377, 0.0272438604197241]\n"
     ]
    }
   ],
   "source": [
    "pvals = []\n",
    "for b in browsers:\n",
    "    res = stats.mannwhitneyu(data_exp[data_exp.browser == b].n_clicks, \n",
    "                             data_control[data_control.browser == b].n_clicks)\n",
    "    print(b, res)\n",
    "    pvals.append(res.pvalue)\n",
    "print(pvals)"
   ]
  },
  {
   "cell_type": "code",
   "execution_count": 134,
   "metadata": {},
   "outputs": [],
   "source": [
    "from statsmodels import *"
   ]
  },
  {
   "cell_type": "code",
   "execution_count": 136,
   "metadata": {},
   "outputs": [
    {
     "data": {
      "text/plain": [
       "(array([False, False, False,  True, False, False]),\n",
       " array([0.14960241, 0.77221655, 0.81521235, 0.        , 0.81521235,\n",
       "        0.1362193 ]),\n",
       " 0.008512444610847103,\n",
       " 0.008333333333333333)"
      ]
     },
     "execution_count": 136,
     "metadata": {},
     "output_type": "execute_result"
    }
   ],
   "source": [
    "stats.multitest.multipletests(pvals, alpha=0.05, method='holm', is_sorted=False, returnsorted=False)"
   ]
  },
  {
   "cell_type": "markdown",
   "metadata": {},
   "source": [
    "### 7\n",
    "Для каждого браузера в каждой из двух групп (control и exp) посчитайте долю запросов, в которых пользователь не кликнул ни разу. Это можно сделать, поделив сумму значений n_nonclk_queries на сумму значений n_queries. Умножив это значение на 100, получим процент некликнутых запросов, который можно легче проинтерпретировать.\n",
    "\n",
    "Сходятся ли результаты проведенного Вами анализа с показателем процента некликнутых запросов ? Отметьте все верные утверждения."
   ]
  },
  {
   "cell_type": "code",
   "execution_count": 137,
   "metadata": {},
   "outputs": [
    {
     "data": {
      "text/plain": [
       "42.69887343806424"
      ]
     },
     "execution_count": 137,
     "metadata": {},
     "output_type": "execute_result"
    }
   ],
   "source": [
    "data_exp.n_nonclk_queries.sum()/data_exp.n_queries.sum()*100"
   ]
  },
  {
   "cell_type": "code",
   "execution_count": 139,
   "metadata": {},
   "outputs": [
    {
     "data": {
      "text/plain": [
       "45.0179084208453"
      ]
     },
     "execution_count": 139,
     "metadata": {},
     "output_type": "execute_result"
    }
   ],
   "source": [
    "data_control.n_nonclk_queries.sum()/data_control.n_queries.sum()*100"
   ]
  },
  {
   "cell_type": "code",
   "execution_count": 140,
   "metadata": {},
   "outputs": [
    {
     "name": "stdout",
     "output_type": "stream",
     "text": [
      "Browser #17 36.93741284866483\n",
      "Browser #22 39.85394721969546\n",
      "Browser #4 45.14294190358467\n",
      "Browser #14 43.755617361273295\n",
      "Browser #20 38.97737648371716\n",
      "Browser #2 44.982746948554706\n"
     ]
    }
   ],
   "source": [
    "for b in browsers:\n",
    "    print(b, data_exp[data_exp.browser == b].n_nonclk_queries.sum()/data_exp[data_exp.browser == b].n_queries.sum()*100)"
   ]
  },
  {
   "cell_type": "code",
   "execution_count": 141,
   "metadata": {},
   "outputs": [
    {
     "name": "stdout",
     "output_type": "stream",
     "text": [
      "Browser #17 36.29936674628208\n",
      "Browser #22 40.593976593513354\n",
      "Browser #4 46.97092963514274\n",
      "Browser #14 57.59041136008114\n",
      "Browser #20 40.540484743383296\n",
      "Browser #2 45.96274717919465\n"
     ]
    }
   ],
   "source": [
    "for b in browsers:\n",
    "    print(b, data_control[data_control.browser == b].n_nonclk_queries.sum()/data_control[data_control.browser == b].n_queries.sum()*100)"
   ]
  },
  {
   "cell_type": "code",
   "execution_count": null,
   "metadata": {},
   "outputs": [],
   "source": []
  }
 ],
 "metadata": {
  "kernelspec": {
   "display_name": "Python 3",
   "language": "python",
   "name": "python3"
  },
  "language_info": {
   "codemirror_mode": {
    "name": "ipython",
    "version": 3
   },
   "file_extension": ".py",
   "mimetype": "text/x-python",
   "name": "python",
   "nbconvert_exporter": "python",
   "pygments_lexer": "ipython3",
   "version": "3.7.6"
  }
 },
 "nbformat": 4,
 "nbformat_minor": 4
}
